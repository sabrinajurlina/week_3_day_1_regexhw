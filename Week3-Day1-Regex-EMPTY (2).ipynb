{
 "cells": [
  {
   "cell_type": "markdown",
   "metadata": {},
   "source": [
    "# Regular Expressions"
   ]
  },
  {
   "cell_type": "markdown",
   "metadata": {},
   "source": [
    "# Tasks today:\n",
    "1) <b>Importing</b> <br>\n",
    "2) <b>Using Regular Expressions</b> <br>\n",
    " &nbsp;&nbsp;&nbsp;&nbsp; a) re.compile() <br>\n",
    " &nbsp;&nbsp;&nbsp;&nbsp; b) re.match() <br>\n",
    " &nbsp;&nbsp;&nbsp;&nbsp; c) re.findall() <br>\n",
    " &nbsp;&nbsp;&nbsp;&nbsp; d) re.search() <br>\n",
    "3) <b>Sets</b> <br>\n",
    " &nbsp;&nbsp;&nbsp;&nbsp; a) Integer Ranges <br>\n",
    " &nbsp;&nbsp;&nbsp;&nbsp; b) Character Ranges <br>\n",
    "4) <b>Counting Occurences</b> <br>\n",
    " &nbsp;&nbsp;&nbsp;&nbsp; a) {x} <br>\n",
    " &nbsp;&nbsp;&nbsp;&nbsp; b) {, x} <br>\n",
    " &nbsp;&nbsp;&nbsp;&nbsp; c) {?} <br>\n",
    " &nbsp;&nbsp;&nbsp;&nbsp; d) {*} <br>\n",
    " &nbsp;&nbsp;&nbsp;&nbsp; e) {+} <br>\n",
    "5) <b>In-Class Exercise #1</b> <br>\n",
    "6) <b>Escaping Characters</b> <br>\n",
    "7) <b>Grouping</b> <br>\n",
    "8) <b>In-Class Exercise #2</b> <br>\n",
    "9) <b>Opening a File</b> <br>\n",
    " &nbsp;&nbsp;&nbsp;&nbsp; a) open() <br>\n",
    " &nbsp;&nbsp;&nbsp;&nbsp; b) with open() <br>\n",
    " &nbsp;&nbsp;&nbsp;&nbsp; c) re.match() <br>\n",
    " &nbsp;&nbsp;&nbsp;&nbsp; d) re.search() <br>\n",
    " &nbsp;&nbsp;&nbsp;&nbsp; e) Store the String in a Variable <br>\n",
    "10) <b>Regex Project</b> <br>"
   ]
  },
  {
   "cell_type": "markdown",
   "metadata": {},
   "source": [
    "### Importing <br>\n",
    "<p>Regular Expressions are universal throughout most programming languages... They are generally imported through the module 're'.</p>"
   ]
  },
  {
   "cell_type": "code",
   "execution_count": 6,
   "metadata": {},
   "outputs": [],
   "source": [
    "import re\n"
   ]
  },
  {
   "cell_type": "markdown",
   "metadata": {},
   "source": [
    "### Using Regular Expressions <br>\n",
    "<p>Regular expressions give us the ability to search for patterns within text, strings, files, etc. They serve several uses, such as; security measures, searching, filtering, pattern recognition, and more...</p>"
   ]
  },
  {
   "cell_type": "markdown",
   "metadata": {},
   "source": [
    "##### RegEx Cheatsheet"
   ]
  },
  {
   "cell_type": "raw",
   "metadata": {},
   "source": [
    "########################\n",
    "# DO NOT RUN THIS CELL #\n",
    "########################\n",
    "\n",
    "a, X, 9, < -- ordinary characters just match themselves exactly.\n",
    ". (a period) -- matches any single character except newline '\\n'\n",
    "\\w -- matches a \"word\" character: a letter or digit or underbar [a-zA-Z0-9_].\n",
    "\\W -- matches any non-word character.\n",
    "\\b -- matches word boundary (in between a word character and a non word character)\n",
    "\\s -- matches a single whitespace character -- space, newline, return, tab\n",
    "\\S -- matches any non-whitespace character.\n",
    "\\t, \\n, \\r -- tab, newline, return\n",
    "\\d -- matches any numeric digit [0-9]\n",
    "\\D matches any non-numeric character.\n",
    "^ -- matches the beginning of the string, or specify omition of certain characters\n",
    "$ -- matches the end of the string\n",
    "\\ -- escapes special character.\n",
    "(x|y|z) matches exactly one of x, y or z.\n",
    "(x) in general is a remembered group. We can get the value of what matched by using the groups() method of the object returned by re.search.\n",
    "x? matches an optional x character (in other words, it matches an x zero or one times).\n",
    "x* matches x zero or more times.\n",
    "x+ matches x one or more times.\n",
    "x{m,n} matches an x character at least m times, but not more than n times.\n",
    "?: matches an expression but do not capture it. Non capturing group.\n",
    "?= matches a suffix but exclude it from capture. Positive lookahead.\n",
    "a(?=b) will match the \"a\" in \"ab\", but not the \"a\" in \"ac\"\n",
    "In other words, a(?=b) matches the \"a\" which is followed by the string 'b', without consuming what follows the a.\n",
    "?! matches if suffix is absent. Negative look ahead.\n",
    "a(?!b) will match the \"a\" in \"ac\", but not the \"a\" in \"ab\"\n",
    "?<= positive look behind\n",
    "[] matches for groupings of consecutive characters\n",
    "?<! negative look behind\n",
    "\n",
    "########################\n",
    "# DO NOT RUN THIS CELL #\n",
    "########################"
   ]
  },
  {
   "cell_type": "markdown",
   "metadata": {},
   "source": [
    "##### re.compile()"
   ]
  },
  {
   "cell_type": "code",
   "execution_count": 7,
   "metadata": {},
   "outputs": [],
   "source": [
    "# using compile, pre determines the string to be used in regular expression methods\n",
    "pattern = re.compile(r'abcd')"
   ]
  },
  {
   "cell_type": "code",
   "execution_count": 8,
   "metadata": {},
   "outputs": [
    {
     "name": "stdout",
     "output_type": "stream",
     "text": [
      "1\n",
      "2\n"
     ]
    }
   ],
   "source": [
    "a, b = (1,2)\n",
    "print(a)\n",
    "print(b)"
   ]
  },
  {
   "cell_type": "markdown",
   "metadata": {},
   "source": [
    "##### re.match()"
   ]
  },
  {
   "cell_type": "code",
   "execution_count": 9,
   "metadata": {},
   "outputs": [
    {
     "name": "stdout",
     "output_type": "stream",
     "text": [
      "<re.Match object; span=(0, 4), match='abcd'>\n",
      "(0, 4)\n"
     ]
    },
    {
     "data": {
      "text/plain": [
       "'abcd'"
      ]
     },
     "execution_count": 9,
     "metadata": {},
     "output_type": "execute_result"
    }
   ],
   "source": [
    "#this only searches the beginning of a string\n",
    "match = pattern.match('abcd123') #check the above pattern against this string to the left...and find a match\n",
    "print(match)\n",
    "print(match.span()) #tuple\n",
    "start, stop = match.span()\n",
    "'abcd123'[start:stop]"
   ]
  },
  {
   "cell_type": "code",
   "execution_count": 10,
   "metadata": {},
   "outputs": [
    {
     "name": "stdout",
     "output_type": "stream",
     "text": [
      "(0, 4)\n"
     ]
    }
   ],
   "source": [
    "#give one match\n",
    "match = pattern.match('abcd123 abcd 543 abcd')\n",
    "print(match.span())"
   ]
  },
  {
   "cell_type": "markdown",
   "metadata": {},
   "source": [
    "##### re.findall()"
   ]
  },
  {
   "cell_type": "code",
   "execution_count": 11,
   "metadata": {},
   "outputs": [
    {
     "name": "stdout",
     "output_type": "stream",
     "text": [
      "['abcd', 'abcd', 'abcd']\n"
     ]
    }
   ],
   "source": [
    "# return a list\n",
    "finders = pattern.findall('123abcd abcd123 abcd abcabc abc')\n",
    "\n",
    "print(finders)"
   ]
  },
  {
   "cell_type": "markdown",
   "metadata": {},
   "source": [
    "##### re.search()"
   ]
  },
  {
   "cell_type": "code",
   "execution_count": 12,
   "metadata": {},
   "outputs": [
    {
     "name": "stdout",
     "output_type": "stream",
     "text": [
      "<re.Match object; span=(12, 16), match='abcd'>\n",
      "12\n",
      "16\n",
      "(12, 16)\n",
      "abcd\n"
     ]
    }
   ],
   "source": [
    "# will find a single match anywhere in your string\n",
    "\n",
    "random_string = '123 123 234 abcd abc abcd'\n",
    "search = pattern.search(random_string)\n",
    "print(search)\n",
    "print(search.start())\n",
    "print(search.end())\n",
    "print(search.span())\n",
    "print(random_string[search.start():search.end()])"
   ]
  },
  {
   "cell_type": "markdown",
   "metadata": {},
   "source": [
    "### Sets <br>\n",
    "<p>The following cells will allow you to use regular expressions to search for certain values within a range such as numbers 1 through 4.</p>"
   ]
  },
  {
   "cell_type": "markdown",
   "metadata": {},
   "source": [
    "##### [a-z] or [A-Z] - any lowercase/uppercase letters from a to z<br/>[^2] - anything that's not 2"
   ]
  },
  {
   "cell_type": "markdown",
   "metadata": {},
   "source": [
    "##### Integer Ranges"
   ]
  },
  {
   "cell_type": "code",
   "execution_count": 19,
   "metadata": {},
   "outputs": [
    {
     "name": "stdout",
     "output_type": "stream",
     "text": [
      "(0, 2)\n",
      "67\n"
     ]
    }
   ],
   "source": [
    "pattern_int = re.compile(r'[0-7][7-9]')\n",
    "# set any number 0-7 followed by any number 7-9\n",
    "\n",
    "random_numbers = pattern_int.match(\"67383\")\n",
    "span = random_numbers.span()\n",
    "print(span)\n",
    "print(random_numbers[span[0]])\n"
   ]
  },
  {
   "cell_type": "code",
   "execution_count": 20,
   "metadata": {
    "scrolled": true
   },
   "outputs": [
    {
     "name": "stdout",
     "output_type": "stream",
     "text": [
      "['67']\n"
     ]
    }
   ],
   "source": [
    "random_number = pattern_int.findall('67883')\n",
    "print(random_number)"
   ]
  },
  {
   "cell_type": "markdown",
   "metadata": {},
   "source": [
    "##### Character Ranges"
   ]
  },
  {
   "cell_type": "code",
   "execution_count": null,
   "metadata": {},
   "outputs": [],
   "source": [
    "pattern_char = re.compile(r'[A-Z][a-z]')\n",
    "found_count = pattern_char.findall(\"Hello There Mr. AnderSon\")\n",
    "print(found_count)"
   ]
  },
  {
   "cell_type": "markdown",
   "metadata": {},
   "source": [
    "### Counting Occurences"
   ]
  },
  {
   "cell_type": "markdown",
   "metadata": {},
   "source": [
    "##### {x} - something that occurs {num_of_times}"
   ]
  },
  {
   "cell_type": "code",
   "execution_count": 21,
   "metadata": {},
   "outputs": [
    {
     "name": "stdout",
     "output_type": "stream",
     "text": [
      "['An33', 'Nw31']\n"
     ]
    }
   ],
   "source": [
    "char_pattern_count = re.compile(r'[A-Z][a-z][0-3]{2}') #2 indicates the previous thing needs to be in there twice\n",
    "#only certain sequences need to have the raw (r) string. /b and /B need it\n",
    "found_count = char_pattern_count.findall('Hello My25. An33derson Nw31')\n",
    "print(found_count)\n"
   ]
  },
  {
   "cell_type": "markdown",
   "metadata": {},
   "source": [
    "##### {x, x} - something that occurs between x and x times"
   ]
  },
  {
   "cell_type": "code",
   "execution_count": 23,
   "metadata": {},
   "outputs": [
    {
     "name": "stdout",
     "output_type": "stream",
     "text": [
      "['m', 'm', 'm', 'mmm', 'mmmmm', 'mmmmm', 'm']\n"
     ]
    }
   ],
   "source": [
    "random_pattern = re.compile(r'm{1,5}')\n",
    "test_string = 'This is an example of a regular expression trying to find one m, more than one mmm or 5 mmmmms but not 6 mmmmmm'\n",
    "random_statement = random_pattern.findall(test_string)\n",
    "print(random_statement)"
   ]
  },
  {
   "cell_type": "markdown",
   "metadata": {},
   "source": [
    "##### ? - something that occurs 0 or 1 time"
   ]
  },
  {
   "cell_type": "code",
   "execution_count": 24,
   "metadata": {},
   "outputs": [
    {
     "name": "stdout",
     "output_type": "stream",
     "text": [
      "['M', 'Ms', 'Ms']\n"
     ]
    }
   ],
   "source": [
    "pattern = re.compile('Ms?')\n",
    "my_string = 'Hello there Mr Anderson, how is Ms. Anderson? excuse me I mean Msss?'\n",
    "found = pattern.findall(my_string)\n",
    "print(found)"
   ]
  },
  {
   "cell_type": "markdown",
   "metadata": {},
   "source": [
    "##### * - something that occurs at least 0 times"
   ]
  },
  {
   "cell_type": "code",
   "execution_count": 25,
   "metadata": {},
   "outputs": [
    {
     "name": "stdout",
     "output_type": "stream",
     "text": [
      "['M', 'M', 'M', 'M', 'Ms', 'Mssssss']\n"
     ]
    }
   ],
   "source": [
    "pattern = re.compile('Ms*')\n",
    "my_string = \"MMMMY name is Ms. Smith. This is Mssssss\"\n",
    "found = pattern.findall(my_string)\n",
    "print(found)"
   ]
  },
  {
   "cell_type": "markdown",
   "metadata": {},
   "source": [
    "##### + - something that occurs at least once"
   ]
  },
  {
   "cell_type": "code",
   "execution_count": 32,
   "metadata": {},
   "outputs": [
    {
     "name": "stdout",
     "output_type": "stream",
     "text": [
      "['Ms', 'MMMMMMMMs']\n",
      "['Ms', 'MMMMMMMMsssssssss']\n"
     ]
    }
   ],
   "source": [
    "pattern = re.compile(r'M+s')\n",
    "my_string = 'My Name is Ms. Smith. this is MMMMMMMMsssssssss'\n",
    "found = pattern.findall(my_string)\n",
    "print(found)\n",
    "pattern = re.compile(r'M+s+') #any number of M and any number of s ... but they are both required\n",
    "my_string = 'My Name is Ms. Smith. this is MMMMMMMMsssssssss'\n",
    "found = pattern.findall(my_string)\n",
    "print(found)"
   ]
  },
  {
   "cell_type": "markdown",
   "metadata": {},
   "source": [
    "##### In-class exercise 1: \n",
    "\n",
    "Use a regular expression to find every number in the given string"
   ]
  },
  {
   "cell_type": "code",
   "execution_count": 31,
   "metadata": {
    "scrolled": true
   },
   "outputs": [
    {
     "name": "stdout",
     "output_type": "stream",
     "text": [
      "['10909090', '1', '2']\n"
     ]
    }
   ],
   "source": [
    "pattern = re.compile(r'[0-9]+')\n",
    "my_string = \"This string has 10909090 numbers, but it is only 1 string. I hope you solve this 2day.\"\n",
    "found = pattern.findall(my_string)\n",
    "print(found)"
   ]
  },
  {
   "cell_type": "markdown",
   "metadata": {},
   "source": [
    "### Escaping Characters"
   ]
  },
  {
   "cell_type": "markdown",
   "metadata": {},
   "source": [
    "##### \\w - look for any Unicode character<br/>\\W - look for anything that isnt a Unicode character\n",
    "\n",
    "[History on Unicode](http://unicode.org/standard/WhatIsUnicode.html)\n",
    "\n",
    "[More on Unicode Characters](https://en.wikipedia.org/wiki/List_of_Unicode_characters)"
   ]
  },
  {
   "cell_type": "code",
   "execution_count": 118,
   "metadata": {},
   "outputs": [
    {
     "name": "stdout",
     "output_type": "stream",
     "text": [
      "['This', 'is', '1', 'sentence', 'With', 'an', 'exclamation', 'mark', 's', 'at', 'the', 'end']\n",
      "[' ', ' ', ' ', '. ', ' ', ', ', ' ', \"'\", ' ', ' ', ' ', '!']\n"
     ]
    }
   ],
   "source": [
    "#looking for any word unit \\w\n",
    "#any word that is not a word unit \\W\n",
    "pattern_1 = re.compile(r'[\\w]+')\n",
    "pattern_2 = re.compile(r'[\\W]+')\n",
    "\n",
    "my_string = \"This is 1 sentence. With an, exclamation mark's at the end!\"\n",
    "\n",
    "f_1 = pattern_1.findall(my_string)\n",
    "f_2 = pattern_2.findall(my_string)\n",
    "print(f_1)\n",
    "print(f_2)"
   ]
  },
  {
   "cell_type": "markdown",
   "metadata": {},
   "source": [
    "##### \\d - look for any digit 0-9<br/>\\D - look for anything that isnt a digit"
   ]
  },
  {
   "cell_type": "code",
   "execution_count": 33,
   "metadata": {},
   "outputs": [
    {
     "name": "stdout",
     "output_type": "stream",
     "text": [
      "['7th', '27th', '3rd', '1st', '30th', '00th']\n"
     ]
    }
   ],
   "source": [
    "pattern = re.compile(r'\\d{1,2}[a-z]{2}')\n",
    "my_string = \"Today is the 7th, in 20 days it will be the 27th. 3rd, 1st, 30th for the 3000th time\"\n",
    "found = pattern.findall(my_string)\n",
    "print(found)"
   ]
  },
  {
   "cell_type": "markdown",
   "metadata": {},
   "source": [
    "##### \\s - look for any white space<br/>\\S - look for anything that isnt whitespace"
   ]
  },
  {
   "cell_type": "code",
   "execution_count": 35,
   "metadata": {},
   "outputs": [
    {
     "name": "stdout",
     "output_type": "stream",
     "text": [
      "['Are', 'you', 'afraid', 'of', 'the', 'dark']\n",
      "[' you', ' afraid', ' of', ' the', ' dark']\n"
     ]
    }
   ],
   "source": [
    "pattern_1 = re.compile(r'\\S[a-z]+')\n",
    "pattern_2 = re.compile(r'\\s[a-z]+')\n",
    "my_string = \"Are you afraid of the dark?\"\n",
    "found_dark = pattern_1.findall(my_string) #not whitespace\n",
    "found_space = pattern_2.findall(my_string) #yes whitespace\n",
    "\n",
    "print(found_dark)\n",
    "print(found_space) #we don't get Are because there is no leading whitespace"
   ]
  },
  {
   "cell_type": "markdown",
   "metadata": {},
   "source": [
    "##### \\b - look for boundaries or edges of a word<br/>\\B - look for anything that isnt a boundary"
   ]
  },
  {
   "cell_type": "code",
   "execution_count": 37,
   "metadata": {},
   "outputs": [
    {
     "name": "stdout",
     "output_type": "stream",
     "text": [
      "['TheCodingTemple']\n",
      "[]\n"
     ]
    }
   ],
   "source": [
    "pattern_1 = re.compile(r'\\bTheCodingTemple\\b')\n",
    "pattern_2 = re.compile(r'\\BTheCodingTemple\\B')\n",
    "\n",
    "my_string = 'asd;uasg;lbasdf:TheCodingTemple:asdf;lkjasdf'\n",
    "found_1 = pattern_1.findall(my_string)\n",
    "found_2 = pattern_2.findall(my_string)\n",
    "print(found_1)\n",
    "print(found_2)\n"
   ]
  },
  {
   "cell_type": "markdown",
   "metadata": {},
   "source": [
    "### Grouping"
   ]
  },
  {
   "cell_type": "code",
   "execution_count": 45,
   "metadata": {},
   "outputs": [
    {
     "name": "stdout",
     "output_type": "stream",
     "text": [
      "[('Max', 'Smith'), ('Sam', 'Darnold'), ('LeBron', 'James'), ('Micheal', 'Jordan'), ('Kevin', 'Durant'), ('Patrick', 'McCormick')]\n",
      "('Max', 'Smith')\n",
      "Smith\n",
      "Max Smith\n",
      "this guy's last name is: Smith \n",
      " this guy's first name is Max\n",
      "aaron rodgers\n",
      "No match found for aaron rodgers\n",
      "Sam Darnold\n",
      "this guy's last name is: Darnold \n",
      " this guy's first name is Sam\n",
      "LeBron James\n",
      "this guy's last name is: James \n",
      " this guy's first name is LeBron\n",
      "Micheal Jordan\n",
      "this guy's last name is: Jordan \n",
      " this guy's first name is Micheal\n",
      "Kevin Durant\n",
      "this guy's last name is: Durant \n",
      " this guy's first name is Kevin\n",
      "Patrick McCormick\n",
      "this guy's last name is: McCormick \n",
      " this guy's first name is Patrick\n"
     ]
    }
   ],
   "source": [
    "my_string = \"Max Smith, aaron rodgers, Sam Darnold, LeBron James, Micheal Jordan, Kevin Durant, Patrick McCormick\"\n",
    "\n",
    "pattern = re.compile(r'([A-Z][a-zA-z]+) ([A-Z][\\w]+)')\n",
    "found = pattern.findall(my_string)\n",
    "print(found)\n",
    "maxsmith = found[0]\n",
    "print(maxsmith)\n",
    "print(maxsmith[1])\n",
    "\n",
    "for name in my_string.split(', '):\n",
    "    print(name)\n",
    "    match = pattern.search(name)\n",
    "    \n",
    "    if match:\n",
    "        #print(match.groups())\n",
    "        print(f\"this guy's last name is: {match.groups()[1]} \\n this guy's first name is {match.groups()[0]}\")\n",
    "    else:\n",
    "        print(f\"No match found for {name}\")\n",
    "        "
   ]
  },
  {
   "cell_type": "code",
   "execution_count": null,
   "metadata": {},
   "outputs": [],
   "source": []
  },
  {
   "cell_type": "markdown",
   "metadata": {},
   "source": [
    "##### In-class Exercise 2:\n",
    "\n",
    "Write a function using regular expressions to find the domain name in the given email addresses (and return None for the invalid email addresses)<br><b>HINT: Use '|' for either or</b>"
   ]
  },
  {
   "cell_type": "code",
   "execution_count": 49,
   "metadata": {},
   "outputs": [
    {
     "name": "stdout",
     "output_type": "stream",
     "text": [
      "jordanw@codingtemple.orgcom\n",
      "pocohontas1776@gmail.com\n",
      "None\n",
      "yourfavoriteband@g6.org\n",
      "None\n"
     ]
    }
   ],
   "source": [
    "my_emails = [\"jordanw@codingtemple.orgcom\", \"pocohontas1776@gmail.com\", \"helloworld@aol..com\",\n",
    "             \"yourfavoriteband@g6.org\", \"@codingtemple.com\"]\n",
    "# You can also use the $ at the end of your compile expression -- this stops the search\n",
    "\n",
    "#Expected output:\n",
    "#jordanw@codingtemple.orgcom\n",
    "#pocohontas1776@gmail.com\n",
    "#None\n",
    "#yourfavoriteband@g6.org\n",
    "#None\n",
    "def validate_email(email):\n",
    "    pattern = re.compile(r'([A-Za-z0-9]+)@([A-Za-z0-9]+).([org|com])')\n",
    "    if pattern.match(email):\n",
    "        return email\n",
    "    else:\n",
    "        return None\n",
    "for email in my_emails:\n",
    "    print(validate_email(email))"
   ]
  },
  {
   "cell_type": "markdown",
   "metadata": {},
   "source": [
    "### Opening a File <br>\n",
    "<p>Python gives us a couple ways to import files, below are the two used most often.</p>"
   ]
  },
  {
   "cell_type": "markdown",
   "metadata": {},
   "source": [
    "##### open()"
   ]
  },
  {
   "cell_type": "code",
   "execution_count": 50,
   "metadata": {},
   "outputs": [
    {
     "name": "stdout",
     "output_type": "stream",
     "text": [
      "Hawkins, Derek\tderek@codingtemple.com\t(555) 555-5555\tTeacher, Coding Temple\t@derekhawkins\n",
      "Zhai, Mo\tmozhai@codingtemple.com\t(555) 555-5554\tTeacher, Coding Temple\n",
      "Johnson, Joe\tjoejohnson@codingtemple.com\t\tJohson, Joe\n",
      "Osterberg, Sven-Erik\tgovernor@norrbotten.co.se\t\tGovernor, Norrbotten\t@sverik\n",
      ", Tim\ttim@killerrabbit.com\t\tEnchanter, Killer Rabbit Cave\n",
      "Butz, Ryan\tryanb@codingtemple.com\t(555) 555-5543\tCEO, Coding Temple\t@ryanbutz\n",
      "Doctor, The\tdoctor+companion@tardis.co.uk\t\tTime Lord, Gallifrey\n",
      "Exampleson, Example\tme@example.com\t555-555-5552\tExample, Example Co.\t@example\n",
      "Pael, Ripal\tripalp@codingtemple.com\t(555) 555-5553\tTeacher, Coding Temple\t@ripalp\n",
      "Vader, Darth\tdarth-vader@empire.gov\t(555) 555-4444\tSith Lord, Galactic Empire\t@darthvader\n",
      "Fernandez de la Vega Sanz, Maria Teresa\tmtfvs@spain.gov\t\tFirst Deputy Prime Minister, Spanish Gov\n",
      "\n"
     ]
    }
   ],
   "source": [
    "#this is a terrible way to do this...\n",
    "file = open('./files/names.txt')\n",
    "data = file.read()\n",
    "print(data)\n",
    "file.close()"
   ]
  },
  {
   "cell_type": "markdown",
   "metadata": {},
   "source": [
    "##### with open()"
   ]
  },
  {
   "cell_type": "code",
   "execution_count": 55,
   "metadata": {},
   "outputs": [
    {
     "name": "stdout",
     "output_type": "stream",
     "text": [
      "Hawkins, Derek\tderek@codingtemple.com\t(555) 555-5555\tTeacher, Coding Temple\t@derekhawkins\n",
      "Zhai, Mo\tmozhai@codingtemple.com\t(555) 555-5554\tTeacher, Coding Temple\n",
      "Johnson, Joe\tjoejohnson@codingtemple.com\t\tJohson, Joe\n",
      "Osterberg, Sven-Erik\tgovernor@norrbotten.co.se\t\tGovernor, Norrbotten\t@sverik\n",
      ", Tim\ttim@killerrabbit.com\t\tEnchanter, Killer Rabbit Cave\n",
      "Butz, Ryan\tryanb@codingtemple.com\t(555) 555-5543\tCEO, Coding Temple\t@ryanbutz\n",
      "Doctor, The\tdoctor+companion@tardis.co.uk\t\tTime Lord, Gallifrey\n",
      "Exampleson, Example\tme@example.com\t555-555-5552\tExample, Example Co.\t@example\n",
      "Pael, Ripal\tripalp@codingtemple.com\t(555) 555-5553\tTeacher, Coding Temple\t@ripalp\n",
      "Vader, Darth\tdarth-vader@empire.gov\t(555) 555-4444\tSith Lord, Galactic Empire\t@darthvader\n",
      "Fernandez de la Vega Sanz, Maria Teresa\tmtfvs@spain.gov\t\tFirst Deputy Prime Minister, Spanish Gov\n",
      "\n",
      "Hawkins, Derek\tderek@codingtemple.com\t(555) 555-5555\tTeacher, Coding Temple\t@derekhawkins\n",
      "Zhai, Mo\tmozhai@codingtemple.com\t(555) 555-5554\tTeacher, Coding Temple\n",
      "Johnson, Joe\tjoejohnson@codingtemple.com\t\tJohson, Joe\n",
      "Osterberg, Sven-Erik\tgovernor@norrbotten.co.se\t\tGovernor, Norrbotten\t@sverik\n",
      ", Tim\ttim@killerrabbit.com\t\tEnchanter, Killer Rabbit Cave\n",
      "Butz, Ryan\tryanb@codingtemple.com\t(555) 555-5543\tCEO, Coding Temple\t@ryanbutz\n",
      "Doctor, The\tdoctor+companion@tardis.co.uk\t\tTime Lord, Gallifrey\n",
      "Exampleson, Example\tme@example.com\t555-555-5552\tExample, Example Co.\t@example\n",
      "Pael, Ripal\tripalp@codingtemple.com\t(555) 555-5553\tTeacher, Coding Temple\t@ripalp\n",
      "Vader, Darth\tdarth-vader@empire.gov\t(555) 555-4444\tSith Lord, Galactic Empire\t@darthvader\n",
      "Fernandez de la Vega Sanz, Maria Teresa\tmtfvs@spain.gov\t\tFirst Deputy Prime Minister, Spanish Gov\n",
      "\n",
      "Hawkins, Derek\tderek@codingtemple.com\t(555) 555-5555\tTeacher, Coding Temple\t@derekhawkins\n",
      "\n",
      "Zhai, Mo\tmozhai@codingtemple.com\t(555) 555-5554\tTeacher, Coding Temple\n",
      "\n",
      "Johnson, Joe\tjoejohnson@codingtemple.com\t\tJohson, Joe\n",
      "\n",
      "Osterberg, Sven-Erik\tgovernor@norrbotten.co.se\t\tGovernor, Norrbotten\t@sverik\n",
      "\n",
      ", Tim\ttim@killerrabbit.com\t\tEnchanter, Killer Rabbit Cave\n",
      "\n",
      "Butz, Ryan\tryanb@codingtemple.com\t(555) 555-5543\tCEO, Coding Temple\t@ryanbutz\n",
      "\n",
      "Doctor, The\tdoctor+companion@tardis.co.uk\t\tTime Lord, Gallifrey\n",
      "\n",
      "Exampleson, Example\tme@example.com\t555-555-5552\tExample, Example Co.\t@example\n",
      "\n",
      "Pael, Ripal\tripalp@codingtemple.com\t(555) 555-5553\tTeacher, Coding Temple\t@ripalp\n",
      "\n",
      "Vader, Darth\tdarth-vader@empire.gov\t(555) 555-4444\tSith Lord, Galactic Empire\t@darthvader\n",
      "\n",
      "Fernandez de la Vega Sanz, Maria Teresa\tmtfvs@spain.gov\t\tFirst Deputy Prime Minister, Spanish Gov\n",
      "\n"
     ]
    }
   ],
   "source": [
    "#DO IT THIS WAY!!!\n",
    "with open('./files/names.txt') as file:\n",
    "    data = file.read()\n",
    "    print(data)\n",
    "with open('./files/names.txt') as file:\n",
    "    file_by_line = file.readlines()\n",
    "    data = file.read\n",
    "\n",
    "for line in file_by_line:\n",
    "    print(line) #could do regex on every line...hint this will help you with your homework"
   ]
  },
  {
   "cell_type": "code",
   "execution_count": 56,
   "metadata": {},
   "outputs": [
    {
     "data": {
      "text/plain": [
       "'Hawkins, Derek\\tderek@codingtemple.com\\t(555) 555-5555\\tTeacher, Coding Temple\\t@derekhawkins\\nZhai, Mo\\tmozhai@codingtemple.com\\t(555) 555-5554\\tTeacher, Coding Temple\\nJohnson, Joe\\tjoejohnson@codingtemple.com\\t\\tJohson, Joe\\nOsterberg, Sven-Erik\\tgovernor@norrbotten.co.se\\t\\tGovernor, Norrbotten\\t@sverik\\n, Tim\\ttim@killerrabbit.com\\t\\tEnchanter, Killer Rabbit Cave\\nButz, Ryan\\tryanb@codingtemple.com\\t(555) 555-5543\\tCEO, Coding Temple\\t@ryanbutz\\nDoctor, The\\tdoctor+companion@tardis.co.uk\\t\\tTime Lord, Gallifrey\\nExampleson, Example\\tme@example.com\\t555-555-5552\\tExample, Example Co.\\t@example\\nPael, Ripal\\tripalp@codingtemple.com\\t(555) 555-5553\\tTeacher, Coding Temple\\t@ripalp\\nVader, Darth\\tdarth-vader@empire.gov\\t(555) 555-4444\\tSith Lord, Galactic Empire\\t@darthvader\\nFernandez de la Vega Sanz, Maria Teresa\\tmtfvs@spain.gov\\t\\tFirst Deputy Prime Minister, Spanish Gov\\n'"
      ]
     },
     "execution_count": 56,
     "metadata": {},
     "output_type": "execute_result"
    }
   ],
   "source": [
    "with open('./files/names.txt') as file:\n",
    "    data = file.read()\n",
    "data"
   ]
  },
  {
   "cell_type": "markdown",
   "metadata": {},
   "source": [
    "##### re.match()"
   ]
  },
  {
   "cell_type": "code",
   "execution_count": 65,
   "metadata": {},
   "outputs": [
    {
     "name": "stdout",
     "output_type": "stream",
     "text": [
      "<re.Match object; span=(0, 14), match='Hawkins, Derek'>\n"
     ]
    },
    {
     "data": {
      "text/plain": [
       "'Hawkins, Derek'"
      ]
     },
     "execution_count": 65,
     "metadata": {},
     "output_type": "execute_result"
    }
   ],
   "source": [
    "print(re.match(\"Hawkins, Derek\", data))\n",
    "data[0:14]"
   ]
  },
  {
   "cell_type": "markdown",
   "metadata": {},
   "source": [
    "##### re.search()"
   ]
  },
  {
   "cell_type": "code",
   "execution_count": 69,
   "metadata": {},
   "outputs": [
    {
     "name": "stdout",
     "output_type": "stream",
     "text": [
      "<re.Match object; span=(582, 605), match='ripalp@codingtemple.com'>\n"
     ]
    },
    {
     "data": {
      "text/plain": [
       "'ripalp@codingtemple.com'"
      ]
     },
     "execution_count": 69,
     "metadata": {},
     "output_type": "execute_result"
    }
   ],
   "source": [
    "print(re.search(r'ripalp@codingtemple.com',data))\n",
    "data[582:605]"
   ]
  },
  {
   "cell_type": "markdown",
   "metadata": {},
   "source": [
    "##### Store the String to a Variable"
   ]
  },
  {
   "cell_type": "code",
   "execution_count": 91,
   "metadata": {},
   "outputs": [
    {
     "name": "stdout",
     "output_type": "stream",
     "text": [
      "What would you like to search for? \\t\n",
      "I found your data: ['\\t', '\\t', '\\t', '\\t', '\\t', '\\t', '\\t', '\\t', '\\t', '\\t', '\\t', '\\t', '\\t', '\\t', '\\t', '\\t', '\\t', '\\t', '\\t', '\\t', '\\t', '\\t', '\\t', '\\t', '\\t', '\\t', '\\t', '\\t', '\\t', '\\t', '\\t', '\\t', '\\t', '\\t', '\\t', '\\t', '\\t', '\\t', '\\t']\n"
     ]
    }
   ],
   "source": [
    "answer = input(\"What would you like to search for? \")\n",
    "found = re.findall(answer, data)\n",
    "if found:\n",
    "    print(f\"I found your data: {found}\")\n",
    "else:\n",
    "    print('it\\'s a no from me boss...')"
   ]
  },
  {
   "cell_type": "code",
   "execution_count": null,
   "metadata": {},
   "outputs": [],
   "source": [
    "\\t ---> tabs\n",
    "\\n ---> new line\n",
    "\\r ---> carriage return (bigger new line)"
   ]
  },
  {
   "cell_type": "markdown",
   "metadata": {},
   "source": [
    "### In-Class Exercise #3 <br>\n",
    "<p>Print each persons name and twitter handle, using groups, should look like:</p>\n",
    "<p>==============<br>\n",
    "   Full Name / Twitter<br>\n",
    "   ==============</p>\n",
    "Derek Hawkins / @derekhawkins\n",
    "\n",
    " Erik Sven-Osterberg / @sverik\n",
    "\n",
    " Ryan Butz / @ryanbutz\n",
    "\n",
    " Example Exampleson / @example\n",
    "\n",
    " Ripal Pael / @ripalp\n",
    "\n",
    " Darth Vader / @darthvader"
   ]
  },
  {
   "cell_type": "code",
   "execution_count": 147,
   "metadata": {},
   "outputs": [
    {
     "name": "stdout",
     "output_type": "stream",
     "text": [
      "Derek Hawkins / @derekhawkins\n",
      "Sven Osterberg / @sverik\n",
      "Ryan Butz / @ryanbutz\n",
      "Example Exampleson / @example\n",
      "Ripal Pael / @ripalp\n",
      "Darth Vader / @darthvader\n"
     ]
    }
   ],
   "source": [
    "#my final code - can't get eric sven-osterberg to print correctly\n",
    "with open('./files/names.txt') as file:\n",
    "    file_by_line = file.readlines()\n",
    "    \n",
    "for line in file_by_line:\n",
    "    twitter_pattern = re.compile(r'(\\s@\\w+)')\n",
    "    twitter = twitter_pattern.findall(line)\n",
    "    if twitter:\n",
    "        name_pattern = re.compile(r'([A-Z][a-z]+)?,[\\s][\\w]+')\n",
    "        name = name_pattern.match(line)\n",
    "        start, stop = name.span()\n",
    "        backwards_name = (line[start:stop]).split(', ')\n",
    "        full_name = backwards_name[1] + ' ' + backwards_name[0]\n",
    "        print(full_name + ' / ' + twitter[0].lstrip())"
   ]
  },
  {
   "cell_type": "code",
   "execution_count": 87,
   "metadata": {
    "scrolled": true
   },
   "outputs": [
    {
     "data": {
      "text/plain": [
       "'Hawkins, Derek\\tderek@codingtemple.com\\t(555) 555-5555\\tTeacher, Coding Temple\\t@derekhawkins\\nZhai, Mo\\tmozhai@codingtemple.com\\t(555) 555-5554\\tTeacher, Coding Temple\\nJohnson, Joe\\tjoejohnson@codingtemple.com\\t\\tJohson, Joe\\nOsterberg, Sven-Erik\\tgovernor@norrbotten.co.se\\t\\tGovernor, Norrbotten\\t@sverik\\n, Tim\\ttim@killerrabbit.com\\t\\tEnchanter, Killer Rabbit Cave\\nButz, Ryan\\tryanb@codingtemple.com\\t(555) 555-5543\\tCEO, Coding Temple\\t@ryanbutz\\nDoctor, The\\tdoctor+companion@tardis.co.uk\\t\\tTime Lord, Gallifrey\\nExampleson, Example\\tme@example.com\\t555-555-5552\\tExample, Example Co.\\t@example\\nPael, Ripal\\tripalp@codingtemple.com\\t(555) 555-5553\\tTeacher, Coding Temple\\t@ripalp\\nVader, Darth\\tdarth-vader@empire.gov\\t(555) 555-4444\\tSith Lord, Galactic Empire\\t@darthvader\\nFernandez de la Vega Sanz, Maria Teresa\\tmtfvs@spain.gov\\t\\tFirst Deputy Prime Minister, Spanish Gov\\n'"
      ]
     },
     "execution_count": 87,
     "metadata": {},
     "output_type": "execute_result"
    }
   ],
   "source": [
    "#notes\n",
    "with open('./files/names.txt') as file:\n",
    "    data = file.read()\n",
    "data\n"
   ]
  },
  {
   "cell_type": "code",
   "execution_count": 98,
   "metadata": {},
   "outputs": [
    {
     "data": {
      "text/plain": [
       "['Hawkins, Derek\\tderek@codingtemple.com\\t(555) 555-5555\\tTeacher, Coding Temple\\t@derekhawkins\\n',\n",
       " 'Zhai, Mo\\tmozhai@codingtemple.com\\t(555) 555-5554\\tTeacher, Coding Temple\\n',\n",
       " 'Johnson, Joe\\tjoejohnson@codingtemple.com\\t\\tJohson, Joe\\n',\n",
       " 'Osterberg, Sven-Erik\\tgovernor@norrbotten.co.se\\t\\tGovernor, Norrbotten\\t@sverik\\n',\n",
       " ', Tim\\ttim@killerrabbit.com\\t\\tEnchanter, Killer Rabbit Cave\\n',\n",
       " 'Butz, Ryan\\tryanb@codingtemple.com\\t(555) 555-5543\\tCEO, Coding Temple\\t@ryanbutz\\n',\n",
       " 'Doctor, The\\tdoctor+companion@tardis.co.uk\\t\\tTime Lord, Gallifrey\\n',\n",
       " 'Exampleson, Example\\tme@example.com\\t555-555-5552\\tExample, Example Co.\\t@example\\n',\n",
       " 'Pael, Ripal\\tripalp@codingtemple.com\\t(555) 555-5553\\tTeacher, Coding Temple\\t@ripalp\\n',\n",
       " 'Vader, Darth\\tdarth-vader@empire.gov\\t(555) 555-4444\\tSith Lord, Galactic Empire\\t@darthvader\\n',\n",
       " 'Fernandez de la Vega Sanz, Maria Teresa\\tmtfvs@spain.gov\\t\\tFirst Deputy Prime Minister, Spanish Gov\\n']"
      ]
     },
     "execution_count": 98,
     "metadata": {},
     "output_type": "execute_result"
    }
   ],
   "source": [
    "#notes\n",
    "with open('./files/names.txt') as file:\n",
    "    file_by_line = file.readlines()\n",
    "file_by_lines"
   ]
  },
  {
   "cell_type": "code",
   "execution_count": 88,
   "metadata": {
    "scrolled": false
   },
   "outputs": [
    {
     "name": "stdout",
     "output_type": "stream",
     "text": [
      "['@codingtemple', '@derekhawkins', '@codingtemple', '@codingtemple', '@norrbotten', '@sverik', '@killerrabbit', '@codingtemple', '@ryanbutz', '@tardis', '@example', '@example', '@codingtemple', '@ripalp', '@empire', '@darthvader', '@spain']\n"
     ]
    }
   ],
   "source": [
    "#notes\n",
    "pattern = re.compile(r'(@[a-zA-Z0-9]+)')\n",
    "found = pattern.findall(data)\n",
    "print(found)"
   ]
  },
  {
   "cell_type": "code",
   "execution_count": 96,
   "metadata": {},
   "outputs": [
    {
     "name": "stdout",
     "output_type": "stream",
     "text": [
      "[]\n",
      "['@codingtemple', '@derekhawkins']\n",
      "[]\n",
      "['@codingtemple']\n",
      "[]\n",
      "['@codingtemple']\n",
      "[]\n",
      "['@norrbotten', '@sverik']\n",
      "[]\n",
      "['@killerrabbit']\n",
      "[]\n",
      "['@codingtemple', '@ryanbutz']\n",
      "[]\n",
      "['@tardis']\n",
      "[]\n",
      "['@example', '@example']\n",
      "[]\n",
      "['@codingtemple', '@ripalp']\n",
      "[]\n",
      "['@empire', '@darthvader']\n",
      "[]\n",
      "['@spain']\n"
     ]
    }
   ],
   "source": [
    "#notes\n",
    "with open('./files/names.txt') as file:\n",
    "    file_by_line = file.readlines()\n",
    "\n",
    "for line in file_by_line:\n",
    "    pattern_1 = re.compile(r'(@[a-zA-Z0-9]+)')\n",
    "    twitter = pattern_1.findall(line)\n",
    "    if twitter:\n",
    "        pattern_2 = re.compile(r'[A-Za-z+] + [A-Z][\\w]')\n",
    "        name = pattern_2.findall(line)\n",
    "        print(name)\n",
    "    print(twitter)"
   ]
  },
  {
   "cell_type": "code",
   "execution_count": 113,
   "metadata": {},
   "outputs": [
    {
     "name": "stdout",
     "output_type": "stream",
     "text": [
      "Derek Hawkins / @derekhawkins\n",
      "Sven Osterberg / @sverik\n",
      "Ryan Butz / @ryanbutz\n",
      "Example Exampleson / @example\n",
      "Ripal Pael / @ripalp\n",
      "Darth Vader / @darthvader\n"
     ]
    },
    {
     "ename": "AttributeError",
     "evalue": "'NoneType' object has no attribute 'span'",
     "output_type": "error",
     "traceback": [
      "\u001b[0;31m---------------------------------------------------------------------------\u001b[0m",
      "\u001b[0;31mAttributeError\u001b[0m                            Traceback (most recent call last)",
      "\u001b[0;32m/var/folders/w9/p7gllp5j4jg0vm6b3g81k0cm0000gn/T/ipykernel_11927/1019573030.py\u001b[0m in \u001b[0;36m<module>\u001b[0;34m\u001b[0m\n\u001b[1;32m      7\u001b[0m     \u001b[0mname\u001b[0m \u001b[0;34m=\u001b[0m \u001b[0mname_search\u001b[0m\u001b[0;34m.\u001b[0m\u001b[0mmatch\u001b[0m\u001b[0;34m(\u001b[0m\u001b[0mline\u001b[0m\u001b[0;34m)\u001b[0m\u001b[0;34m\u001b[0m\u001b[0;34m\u001b[0m\u001b[0m\n\u001b[1;32m      8\u001b[0m     \u001b[0mtwitter\u001b[0m \u001b[0;34m=\u001b[0m \u001b[0mtwitter_search\u001b[0m\u001b[0;34m.\u001b[0m\u001b[0mfindall\u001b[0m\u001b[0;34m(\u001b[0m\u001b[0mline\u001b[0m\u001b[0;34m)\u001b[0m\u001b[0;34m\u001b[0m\u001b[0;34m\u001b[0m\u001b[0m\n\u001b[0;32m----> 9\u001b[0;31m     \u001b[0mstart\u001b[0m\u001b[0;34m,\u001b[0m \u001b[0mstop\u001b[0m \u001b[0;34m=\u001b[0m \u001b[0mname\u001b[0m\u001b[0;34m.\u001b[0m\u001b[0mspan\u001b[0m\u001b[0;34m(\u001b[0m\u001b[0;34m)\u001b[0m\u001b[0;34m\u001b[0m\u001b[0;34m\u001b[0m\u001b[0m\n\u001b[0m\u001b[1;32m     10\u001b[0m     \u001b[0mfull_name_split\u001b[0m \u001b[0;34m=\u001b[0m \u001b[0;34m(\u001b[0m\u001b[0mline\u001b[0m\u001b[0;34m[\u001b[0m\u001b[0mstart\u001b[0m\u001b[0;34m:\u001b[0m\u001b[0mstop\u001b[0m\u001b[0;34m]\u001b[0m\u001b[0;34m)\u001b[0m\u001b[0;34m.\u001b[0m\u001b[0msplit\u001b[0m\u001b[0;34m(\u001b[0m\u001b[0;34m\", \"\u001b[0m\u001b[0;34m)\u001b[0m\u001b[0;34m\u001b[0m\u001b[0;34m\u001b[0m\u001b[0m\n\u001b[1;32m     11\u001b[0m     \u001b[0mfull_name\u001b[0m \u001b[0;34m=\u001b[0m \u001b[0mfull_name_split\u001b[0m\u001b[0;34m[\u001b[0m\u001b[0;36m1\u001b[0m\u001b[0;34m]\u001b[0m \u001b[0;34m+\u001b[0m \u001b[0;34m\" \"\u001b[0m \u001b[0;34m+\u001b[0m \u001b[0mfull_name_split\u001b[0m\u001b[0;34m[\u001b[0m\u001b[0;36m0\u001b[0m\u001b[0;34m]\u001b[0m\u001b[0;34m\u001b[0m\u001b[0;34m\u001b[0m\u001b[0m\n",
      "\u001b[0;31mAttributeError\u001b[0m: 'NoneType' object has no attribute 'span'"
     ]
    }
   ],
   "source": [
    "#Patrick's attempt...can't figure out why we're getting the error\n",
    "with open(\"./files/names.txt\") as file:\n",
    "    data = file.readlines()\n",
    "    \n",
    "for line in data:\n",
    "    name_search = re.compile(r\"([A-Z][a-z]+)?,[\\s][\\w]+\")\n",
    "    twitter_search = re.compile(r\"([\\s]@[\\w]+)\")\n",
    "    name = name_search.match(line)\n",
    "    twitter = twitter_search.findall(line)\n",
    "    start, stop = name.span()\n",
    "    full_name_split = (line[start:stop]).split(\", \")\n",
    "    full_name = full_name_split[1] + \" \" + full_name_split[0]\n",
    "    if twitter: #this was the error! the if statement has to be before the name pattern runs\n",
    "        print(full_name + \" / \" + twitter[0].lstrip())"
   ]
  },
  {
   "cell_type": "code",
   "execution_count": 119,
   "metadata": {},
   "outputs": [
    {
     "name": "stdout",
     "output_type": "stream",
     "text": [
      "Derek Hawkins / @derekhawkins\n",
      "Sven Osterberg / @sverik\n",
      "Ryan Butz / @ryanbutz\n",
      "Example Exampleson / @example\n",
      "Ripal Pael / @ripalp\n",
      "Darth Vader / @darthvader\n"
     ]
    }
   ],
   "source": [
    "#grady's approach\n",
    "with open('./files/names.txt') as file:\n",
    "    data = file.readlines()\n",
    "    pattern1 = re.compile(r'([\\w]+,[\\s][\\w]+?-?[\\w]+)(\\t[\\w\\W]+)([\\s]@[\\w]+)')\n",
    "    full_pattern = re.compile(r'([\\w]+?)(,[\\s][\\w]+)')\n",
    "    for line in data:\n",
    "        match = pattern1.search(line)\n",
    "        if match:\n",
    "            name = match.group(1)\n",
    "            full_name1 = full_pattern.match(line)\n",
    "            full_name = full_name1[0].split(\", \")\n",
    "            real_name = full_name[1] + \" \" + full_name[0]\n",
    "            twitter = match.group(3)\n",
    "            print(real_name + \" / \" + twitter.strip())"
   ]
  },
  {
   "cell_type": "markdown",
   "metadata": {},
   "source": [
    "### Regex project\n",
    "\n",
    "Use python to read the file regex_test.txt and print the last name on each line using regular expressions and groups (return None for names with no first and last name, or names that aren't properly capitalized)\n",
    "##### Hint: use with open() and readlines()"
   ]
  },
  {
   "cell_type": "code",
   "execution_count": null,
   "metadata": {},
   "outputs": [],
   "source": [
    "\"\"\"\n",
    "Expected Output\n",
    "Abraham Lincoln\n",
    "Andrew P Garfield\n",
    "Connor Milliken\n",
    "Jordan Alexander Williams\n",
    "None\n",
    "None\n",
    "\"\"\""
   ]
  },
  {
   "cell_type": "code",
   "execution_count": 134,
   "metadata": {},
   "outputs": [
    {
     "data": {
      "text/plain": [
       "['Abraham Lincoln\\n',\n",
       " 'Andrew P Garfield\\n',\n",
       " 'Connor Milliken\\n',\n",
       " 'Jordan Alexander Williams\\n',\n",
       " 'Madonna\\n',\n",
       " 'programming is cool']"
      ]
     },
     "execution_count": 134,
     "metadata": {},
     "output_type": "execute_result"
    }
   ],
   "source": [
    "#notes\n",
    "with open ('./files/regex-test.txt') as file:\n",
    "    data = file.readlines()\n",
    "data"
   ]
  },
  {
   "cell_type": "code",
   "execution_count": 146,
   "metadata": {},
   "outputs": [
    {
     "name": "stdout",
     "output_type": "stream",
     "text": [
      "Abraham Lincoln\n",
      "Andrew P Garfield\n",
      "Connor Milliken\n",
      "Jordan Alexander Williams\n",
      "None\n",
      "None\n"
     ]
    }
   ],
   "source": [
    "with open ('./files/regex-test.txt') as file:\n",
    "    data = file.readlines()\n",
    "for line in data:\n",
    "    name_pattern = re.compile(r'[A-Z][a-z]+?[\\s][\\w]+')\n",
    "    names = name_pattern.findall(line)\n",
    "    if names:\n",
    "        print(line.strip())\n",
    "    else:\n",
    "        print('None')\n",
    "    \n",
    "#grady's name pattern = re.compile(r'[A-Z][\\w]+ ?[A-Z]?[\\w]+ [A-Z][\\w]+')\n",
    "\n",
    "\n"
   ]
  }
 ],
 "metadata": {
  "kernelspec": {
   "display_name": "Python 3 (ipykernel)",
   "language": "python",
   "name": "python3"
  },
  "language_info": {
   "codemirror_mode": {
    "name": "ipython",
    "version": 3
   },
   "file_extension": ".py",
   "mimetype": "text/x-python",
   "name": "python",
   "nbconvert_exporter": "python",
   "pygments_lexer": "ipython3",
   "version": "3.9.7"
  }
 },
 "nbformat": 4,
 "nbformat_minor": 2
}
